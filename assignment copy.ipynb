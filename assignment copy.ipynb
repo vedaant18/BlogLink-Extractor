{
 "cells": [
  {
   "cell_type": "code",
   "execution_count": 1,
   "metadata": {},
   "outputs": [],
   "source": [
    "import requests\n",
    "from bs4 import BeautifulSoup\n",
    "import pandas as pd\n",
    "import os"
   ]
  },
  {
   "cell_type": "code",
   "execution_count": 36,
   "metadata": {},
   "outputs": [
    {
     "name": "stdout",
     "output_type": "stream",
     "text": [
      "can't get title of 11668.0\n",
      "can't get title of 17671.4\n"
     ]
    }
   ],
   "source": [
    "df = pd.read_excel('Copy of Input.xlsx')\n",
    "\n",
    "#loop throgh each row in the df\n",
    "for index, row in df.iterrows():\n",
    "    url = row['URL']\n",
    "    url_id = row['URL_ID']\n",
    "\n",
    "    header = {'User-Agent': \"Mozilla/5.0 (Windows NT 10.0; Win64; x64) AppleWebKit/537.36 (KHTML, like Gecko) Chrome/108.0.0.0 Safari/537.36\"}\n",
    "    try:\n",
    "        response = requests.get(url,headers=header)\n",
    "    except:\n",
    "        print(\"can't get response of {}\".format(url_id))\n",
    "\n",
    "    #create a beautifulsoup object\n",
    "    try:\n",
    "        soup = BeautifulSoup(response.content, 'html.parser')\n",
    "    except:\n",
    "        print(\"can't get page of {}\".format(url_id))\n",
    "    #find title\n",
    "    try:\n",
    "        title = soup.find('h1').get_text()\n",
    "    except:\n",
    "        print(\"can't get title of {}\".format(url_id))\n",
    "        continue\n",
    "    #find text\n",
    "    article = \"\"\n",
    "    try:\n",
    "        for p in soup.find_all('p'):\n",
    "            article+= p.get_text()\n",
    "    except:\n",
    "        print(\"can't get text of {}\".format(url_id))\n",
    "    dir_path=r\"C:\\Users\\Vedaant\\Desktop\\web scrapper\\title\"\n",
    "    file_name = str(url_id) + '.txt'\n",
    "    file_path=os.path.join(dir_path,file_name)\n",
    "    with open(file_path, 'w',encoding=\"utf-8\") as file:\n",
    "        file.write(title + '\\n' + article)"
   ]
  }
 ],
 "metadata": {
  "kernelspec": {
   "display_name": "Python 3",
   "language": "python",
   "name": "python3"
  },
  "language_info": {
   "codemirror_mode": {
    "name": "ipython",
    "version": 3
   },
   "file_extension": ".py",
   "mimetype": "text/x-python",
   "name": "python",
   "nbconvert_exporter": "python",
   "pygments_lexer": "ipython3",
   "version": "3.10.0"
  },
  "orig_nbformat": 4
 },
 "nbformat": 4,
 "nbformat_minor": 2
}
